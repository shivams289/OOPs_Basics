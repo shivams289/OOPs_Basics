{
  "nbformat": 4,
  "nbformat_minor": 0,
  "metadata": {
    "colab": {
      "name": "Oops_Basics.ipynb",
      "provenance": []
    },
    "kernelspec": {
      "name": "python3",
      "display_name": "Python 3"
    },
    "language_info": {
      "name": "python"
    }
  },
  "cells": [
    {
      "cell_type": "code",
      "metadata": {
        "id": "5AylNTz6uSDg"
      },
      "source": [
        "### #Classes and Instances\n",
        "\n",
        "class Employee:\n",
        "\n",
        "raise_amount = 1.04\n",
        "\n",
        "num_of_emps=0\n",
        "\n",
        "   def __init__(self, first, last, pay):\n",
        "\n",
        "        self.first =first\n",
        "\n",
        "        self.last = last\n",
        "\n",
        "        self.pay= = pay\n",
        "\n",
        "        self.email= first + '.' + last +'@company.com'\n",
        "\n",
        "emp1 = Employee('corey', 'schaffer', 50000)\n",
        "\n",
        " def fullname(self): #a **regular** method named fullname \n",
        "\n",
        "          return '{} {}'.format(self.first, self.last)\n",
        "\n",
        "print(emp1.fullname()) '''or''' Employee.fullname(empl1)"
      ],
      "execution_count": null,
      "outputs": []
    },
    {
      "cell_type": "code",
      "metadata": {
        "id": "3gsGDuDAu-h7"
      },
      "source": [
        "#Class Variable\n",
        "def apply_raise(self):\n",
        "  self.pay = int(self.pay * self.raise_amount)\n",
        "\n",
        "emp1.raise_amount = 1.05 #here we are changing for emp1, \n",
        "#we are adding a variable and we are assigning it a new value but \n",
        "#just for employee 1, `raise_amount=1.04` for others\n",
        "\n",
        "   def __init__(self, first, last, pay):\n",
        "\n",
        "        self.first =first\n",
        "\n",
        "        self.last = last\n",
        "\n",
        "        self.pay = pay\n",
        "\n",
        "        self.email = first + '.' + last +'@company.com'`\n",
        "\n",
        "        Employee.num_of_emps +=1 #incrementing every time we add new employee"
      ],
      "execution_count": null,
      "outputs": []
    },
    {
      "cell_type": "code",
      "metadata": {
        "id": "hVjuxCe7vmhY"
      },
      "source": [
        "### #class methods and static methods\n",
        "\n",
        "@classmethod #decorators , class is passed as argument not instance like self, \n",
        "#changes are done to class\n",
        "def set_raise_amt(cls, amount):\n",
        "\n",
        "         cls.raise_amount = amount\n",
        "\n",
        "Employee.set_raise_amt(1.05) #, will change the class variable value as we \n",
        "#provided above, we dont need to pass value for cls as that is already passed"
      ],
      "execution_count": null,
      "outputs": []
    },
    {
      "cell_type": "code",
      "metadata": {
        "id": "hD-vEsf8v8OP"
      },
      "source": [
        "### #Inheritance - Creating Subclasses\n",
        "\n",
        "Class Developer(Employee):#inheriting everything from Employee\n",
        "\n",
        "      raise_amt = 1.05 #changing raise amt in subclass won't affect in parent class\n",
        "\n",
        "      def __init__(self, first, last, pay, prog_lang):\n",
        "\n",
        "                super().__init__(first,last,pay) #or `Employee.__init__(self, first,last, pay)`\n",
        "\n",
        "                self.prog_lang=prog_lang\n",
        "\n",
        "Class Manager(Employee): #inheriting everything from Employee\n",
        "\n",
        "      def __init__(self, first, last, pay, employees=None):\n",
        "\n",
        "                super().__init__(first,last,pay) \n",
        "\n",
        "                if employee is None:\n",
        "\n",
        "                         self.employees=[]\n",
        "\n",
        "                else:\n",
        "\n",
        "                         self.employees = employees\n",
        "#creating a method\n",
        "\n",
        "       def add_emp(self,emp):\n",
        "\n",
        "                   if emp not in self.employees:\n",
        "\n",
        "                          self.employees.append(emp)\n",
        "\n",
        "       def print_emp(self):\n",
        "\n",
        "                   for emp in self.employees:\n",
        "\n",
        "                          print('-->'emp.fullname())\n",
        "\n",
        "print(isinstance(manager1, Manager) #for checking if an object is a class/subclass instance?\n",
        "\n",
        "print(issubclass( Manager, Employee) #for checking if a class is a subclass of a class?"
      ],
      "execution_count": null,
      "outputs": []
    },
    {
      "cell_type": "code",
      "metadata": {
        "id": "1hDoCUXKwo_f"
      },
      "source": [
        "### #Special (Magic/Dunder) Methods\n",
        "\n",
        "#theses are in standard libraray\n",
        "\n",
        "print(1+2) '''and''' print('a'+'b') #has different behaviour of + operator , \n",
        "#this is called **operator overloading**\n",
        "\n",
        "__init__ #is a special method\n",
        "\n",
        "#if we simply `print(emp1)`, it won't print emp1 attributes rather \n",
        "#it will say that it's an object\n",
        "\n",
        "#so in order to print it's attributes, we have\n",
        "\n",
        "def __repr__(self): #called dunder repr\n",
        "\n",
        "      return \"Employee('{}','{}','{}')\".format(self.first, self.last, self.pay)\n",
        "\n",
        "def __str__(self):\n",
        "\n",
        "      return '{} - {}'.format(self.fullname(), self.email)\n",
        "\n",
        "#now , we cant `print(repr(emp1)` #or `print(str(emp1)`#which will print correctly\n",
        "\n",
        "def __add__(self, other)#a special method to add salaries of 2 employees\n",
        "\n",
        "        return self.pay+other.pay\n",
        "\n",
        "print(emp1+emp2) # this wouldn't have worked if we didn't define dunder add above"
      ],
      "execution_count": null,
      "outputs": []
    },
    {
      "cell_type": "code",
      "metadata": {
        "id": "mZ9xkSAhxPkJ"
      },
      "source": [
        "## #Property Decorators - Getters, Setters, and Deleters\n",
        "\n",
        "#when we change\n",
        "\n",
        "emp1.first = 'Jim' #it will change the first name , but it won't change our \n",
        "#email attribute , it #won't be Jim smith rather Joh smith\n",
        "\n",
        "@property #to make the method below an attribute, its an decorator\n",
        "\n",
        " def email(self): #a **regular** method named fullname \n",
        "\n",
        "          return '{} {}@email.com'.format(self.first, self.last)\n",
        "\n",
        "#this will do the work , we have to delete email attribute above in init method\n",
        "\n",
        "@property #to make the method below an attribute, its an decorator\n",
        "\n",
        " def fullname(self): \n",
        "\n",
        "          return '{} {}'.format(self.first, self.last)\n",
        "\n",
        "@fullname.setter\n",
        "def fullname(self,name): \n",
        "\n",
        "          first, last = name.split('')\n",
        "\n",
        "          self.first = first\n",
        "\n",
        "          self.last = last\n",
        "\n",
        "#Now this will allow us to set fullname directly and use it as a attribute\n",
        "\n",
        "emp1.fullname ='Corey Schaffer'\n",
        "\n",
        "#a deleter to delete \n",
        "\n",
        "@fullname.deleter\n",
        "def fullname(self): \n",
        "\n",
        "           self.first= None\n",
        "\n",
        "           self.last=None\n",
        "\n",
        "del emp1.fullname #will delete emp1\n"
      ],
      "execution_count": null,
      "outputs": []
    }
  ]
}