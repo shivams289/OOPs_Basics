{
  "nbformat": 4,
  "nbformat_minor": 0,
  "metadata": {
    "colab": {
      "name": "LinkedList.ipynb",
      "provenance": [],
      "authorship_tag": "ABX9TyPWoTdvuLRKTyMYvlSD32k9",
      "include_colab_link": true
    },
    "kernelspec": {
      "name": "python3",
      "display_name": "Python 3"
    },
    "language_info": {
      "name": "python"
    }
  },
  "cells": [
    {
      "cell_type": "markdown",
      "metadata": {
        "id": "view-in-github",
        "colab_type": "text"
      },
      "source": [
        "<a href=\"https://colab.research.google.com/github/shivams289/OOPs_Basics/blob/main/LinkedList.ipynb\" target=\"_parent\"><img src=\"https://colab.research.google.com/assets/colab-badge.svg\" alt=\"Open In Colab\"/></a>"
      ]
    },
    {
      "cell_type": "code",
      "metadata": {
        "colab": {
          "base_uri": "https://localhost:8080/"
        },
        "id": "VtjqlXTrQuJ0",
        "outputId": "b6007bc5-d561-4251-f7ea-672bb355b015"
      },
      "source": [
        "class Node:\n",
        "  def __init__(self, data = None , next = None):\n",
        "    self.data = data \n",
        "    self.next = next\n",
        "\n",
        "\n",
        "class LinkedList:\n",
        "  def __init__(self):\n",
        "    self.head = None\n",
        "\n",
        "#Method to insert values at the begining\n",
        "  def insert_at_begin(self, data):\n",
        "    node = Node(data, self.head)\n",
        "    self.head = node\n",
        "\n",
        "#Method to print the linked list values\n",
        "  def print(self):\n",
        "    if self.head is None:\n",
        "      print('EMPTY')\n",
        "      return \n",
        "\n",
        "    itr = self.head\n",
        "    llstr = ''\n",
        "    while itr:\n",
        "      llstr += str(itr.data)+ '-->'\n",
        "      itr = itr.next\n",
        "    print(llstr)\n",
        "\n",
        "#Method to insert Values at the end of LinkedList\n",
        "  def insert_at_end(self, data):\n",
        "    if self.head is None:\n",
        "      self.head = Node(data, None)\n",
        "      return\n",
        "\n",
        "    itr = self.head\n",
        "    while itr.next:\n",
        "      itr = itr.next\n",
        "      \n",
        "    itr.next = Node(data, None)\n",
        "  \n",
        "#Method to insert values of a list in a linked list \n",
        "  def insert_values(self, data_list):\n",
        "    self.head = None\n",
        "    for data in data_list:\n",
        "      self.insert_at_end(data)\n",
        "\n",
        "# Method to get the length of LinkdeList\n",
        "  def get_length(self):\n",
        "    count = 0\n",
        "    itr = self.head\n",
        "    while itr:\n",
        "      count +=1\n",
        "      itr = itr.next\n",
        "\n",
        "    return count\n",
        "\n",
        "\n",
        "#Driver code\n",
        "if __name__ == '__main__':\n",
        "  ll = LinkedList()\n",
        "  ll.insert_at_begin(5)\n",
        "  ll.insert_at_begin(89)\n",
        "  ll.insert_at_end(69)\n",
        "  ll.insert_values([1,2,3,4,5,6])\n",
        "  print(ll.get_length())"
      ],
      "execution_count": 11,
      "outputs": [
        {
          "output_type": "stream",
          "text": [
            "6\n"
          ],
          "name": "stdout"
        }
      ]
    }
  ]
}